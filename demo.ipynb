{
 "cells": [
  {
   "cell_type": "code",
   "execution_count": 1,
   "metadata": {},
   "outputs": [
    {
     "name": "stderr",
     "output_type": "stream",
     "text": [
      "/Users/sunil/Desktop/cleanMail/nlp/lib/python3.10/site-packages/sru/cuda_functional.py:23: UserWarning: Just-in-time loading and compiling the CUDA kernels of SRU was unsuccessful. Got the following error:\n",
      "CUDA_HOME environment variable is not set. Please set it to your CUDA install root.\n",
      "  warnings.warn(\"Just-in-time loading and compiling the CUDA kernels of SRU was unsuccessful. \"\n",
      "/Users/sunil/Desktop/cleanMail/nlp/lib/python3.10/site-packages/sru/ops.py:162: UserWarning: Running SRU on CPU with grad_enabled=True. Are you sure?\n",
      "  warnings.warn(\"Running SRU on CPU with grad_enabled=True. Are you sure?\")\n"
     ]
    },
    {
     "name": "stdout",
     "output_type": "stream",
     "text": [
      "Epoch 0; loss: 2.3225746154785156\n",
      "Epoch 50; loss: 1.838853359222412\n",
      "Epoch 100; loss: 0.41249513626098633\n",
      "Epoch 150; loss: 0.1188405230641365\n",
      "Epoch 200; loss: 0.03466189280152321\n",
      "Epoch 250; loss: 0.014321047812700272\n",
      "Epoch 300; loss: 0.007504131644964218\n",
      "Epoch 350; loss: 0.004504414740949869\n",
      "Epoch 400; loss: 0.002940024249255657\n",
      "Epoch 450; loss: 0.002028790069743991\n",
      "Epoch 500; loss: 0.001456510741263628\n",
      "Epoch 550; loss: 0.0010763572063297033\n",
      "Epoch 600; loss: 0.0008132726070471108\n",
      "Epoch 650; loss: 0.0006254147156141698\n",
      "Epoch 700; loss: 0.0004876854654867202\n",
      "Epoch 750; loss: 0.0003847335756290704\n",
      "Epoch 800; loss: 0.00030620177858509123\n",
      "Epoch 850; loss: 0.0002456601650919765\n",
      "Epoch 900; loss: 0.0001984637783607468\n",
      "Epoch 950; loss: 0.00016115797916427255\n"
     ]
    }
   ],
   "source": [
    "from train import TrainWrapper\n",
    "\n",
    "trainer = TrainWrapper()\n",
    "model = trainer.train()"
   ]
  },
  {
   "cell_type": "code",
   "execution_count": 2,
   "metadata": {},
   "outputs": [
    {
     "name": "stdout",
     "output_type": "stream",
     "text": [
      "[tensor([0]), tensor([1]), tensor([2]), tensor([3]), tensor([4]), tensor([5])]\n"
     ]
    }
   ],
   "source": [
    "vals = [str(i) for i in range(6)] # train set\n",
    "preds = trainer.predict(model, vals)\n",
    "print(preds)"
   ]
  },
  {
   "cell_type": "code",
   "execution_count": 3,
   "metadata": {},
   "outputs": [
    {
     "name": "stdout",
     "output_type": "stream",
     "text": [
      "[tensor([0]), tensor([4]), tensor([3]), tensor([1])]\n"
     ]
    }
   ],
   "source": [
    "vals = ['6', '7', '8', '9'] # test set\n",
    "preds = trainer.predict(model, vals)\n",
    "print(preds)"
   ]
  },
  {
   "attachments": {},
   "cell_type": "markdown",
   "metadata": {},
   "source": [
    "* the model has memorized the train set, but performs poorly on new data\n",
    "* a different approach to training rnn to count should be tried (e.g., not treating problem as multiclassification problem)"
   ]
  },
  {
   "attachments": {},
   "cell_type": "markdown",
   "metadata": {},
   "source": [
    "* initially did not work because was training on singular sequences (e.g., [x_1])\n",
    "* however after changing the training data to variable sequences, the model is able to learn\n",
    "* which makes sense because RNNs are good at memorizing sequences"
   ]
  },
  {
   "cell_type": "markdown",
   "metadata": {},
   "source": [
    "# Re-train with updating training set (training set of sequences of numbers)"
   ]
  },
  {
   "cell_type": "code",
   "execution_count": 1,
   "metadata": {},
   "outputs": [
    {
     "name": "stderr",
     "output_type": "stream",
     "text": [
      "/Users/sunil/Desktop/cleanMail/nlp/lib/python3.10/site-packages/sru/cuda_functional.py:23: UserWarning: Just-in-time loading and compiling the CUDA kernels of SRU was unsuccessful. Got the following error:\n",
      "CUDA_HOME environment variable is not set. Please set it to your CUDA install root.\n",
      "  warnings.warn(\"Just-in-time loading and compiling the CUDA kernels of SRU was unsuccessful. \"\n",
      "/Users/sunil/Desktop/cleanMail/nlp/lib/python3.10/site-packages/sru/ops.py:162: UserWarning: Running SRU on CPU with grad_enabled=True. Are you sure?\n",
      "  warnings.warn(\"Running SRU on CPU with grad_enabled=True. Are you sure?\")\n"
     ]
    },
    {
     "name": "stdout",
     "output_type": "stream",
     "text": [
      "Epoch 0; loss: 2.5075714588165283\n",
      "Epoch 50; loss: 1.287277340888977\n",
      "Epoch 100; loss: 0.08156409114599228\n",
      "Epoch 150; loss: 0.016783110797405243\n",
      "Epoch 200; loss: 0.006652115378528833\n",
      "Epoch 250; loss: 0.003382558235898614\n",
      "Epoch 300; loss: 0.0019508631667122245\n",
      "Epoch 350; loss: 0.001211862312629819\n",
      "Epoch 400; loss: 0.0007898071780800819\n",
      "Epoch 450; loss: 0.0005318895564414561\n",
      "Epoch 500; loss: 0.0003667397249955684\n",
      "Epoch 550; loss: 0.00025733973598107696\n",
      "Epoch 600; loss: 0.00018261195509694517\n",
      "Epoch 650; loss: 0.0001311216183239594\n",
      "Epoch 700; loss: 9.464769391342998e-05\n",
      "Epoch 750; loss: 6.890059739816934e-05\n",
      "Epoch 800; loss: 5.030505417380482e-05\n",
      "Epoch 850; loss: 3.6954195820726454e-05\n",
      "Epoch 900; loss: 2.7179348762729205e-05\n",
      "Epoch 950; loss: 2.002696055569686e-05\n"
     ]
    }
   ],
   "source": [
    "from train import TrainWrapper\n",
    "\n",
    "trainer = TrainWrapper()\n",
    "model = trainer.train()"
   ]
  },
  {
   "cell_type": "code",
   "execution_count": 2,
   "metadata": {},
   "outputs": [
    {
     "name": "stdout",
     "output_type": "stream",
     "text": [
      "['x_0', 'x_1', 'x_2', 'x_3', 'x_4', 'x_5', 'x_6', 'x_7', 'x_8', 'x_9']\n",
      "[tensor([0]), tensor([1]), tensor([2]), tensor([3]), tensor([4]), tensor([5]), tensor([6]), tensor([7]), tensor([8]), tensor([9])]\n",
      "all predictions correct? True\n"
     ]
    }
   ],
   "source": [
    "vals = [f'x_{i}' for i in range(10)]\n",
    "\n",
    "preds = trainer.predict(model, [f'x_{i}' for i in range(10)])\n",
    "print(vals)\n",
    "print(preds)\n",
    "print(f'all predictions correct? {[int(v[-1]) for v in vals] == [int(p.item()) for p in preds]}')"
   ]
  },
  {
   "cell_type": "code",
   "execution_count": null,
   "metadata": {},
   "outputs": [],
   "source": []
  }
 ],
 "metadata": {
  "kernelspec": {
   "display_name": "Python 3",
   "language": "python",
   "name": "python3"
  },
  "language_info": {
   "codemirror_mode": {
    "name": "ipython",
    "version": 3
   },
   "file_extension": ".py",
   "mimetype": "text/x-python",
   "name": "python",
   "nbconvert_exporter": "python",
   "pygments_lexer": "ipython3",
   "version": "3.10.8"
  },
  "orig_nbformat": 4,
  "vscode": {
   "interpreter": {
    "hash": "b44bb4727ebb14ca7ed5ca7e4777ddffcb6a59419da300b376f4a60fa3c6fc77"
   }
  }
 },
 "nbformat": 4,
 "nbformat_minor": 2
}
