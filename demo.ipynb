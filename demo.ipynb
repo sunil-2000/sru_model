{
 "cells": [
  {
   "cell_type": "code",
   "execution_count": 1,
   "metadata": {},
   "outputs": [
    {
     "name": "stderr",
     "output_type": "stream",
     "text": [
      "/Users/sunil/Desktop/cleanMail/nlp/lib/python3.10/site-packages/sru/cuda_functional.py:23: UserWarning: Just-in-time loading and compiling the CUDA kernels of SRU was unsuccessful. Got the following error:\n",
      "CUDA_HOME environment variable is not set. Please set it to your CUDA install root.\n",
      "  warnings.warn(\"Just-in-time loading and compiling the CUDA kernels of SRU was unsuccessful. \"\n",
      "/Users/sunil/Desktop/cleanMail/nlp/lib/python3.10/site-packages/sru/ops.py:162: UserWarning: Running SRU on CPU with grad_enabled=True. Are you sure?\n",
      "  warnings.warn(\"Running SRU on CPU with grad_enabled=True. Are you sure?\")\n"
     ]
    },
    {
     "name": "stdout",
     "output_type": "stream",
     "text": [
      "Epoch 0; loss: 2.3225746154785156\n",
      "Epoch 50; loss: 1.838853359222412\n",
      "Epoch 100; loss: 0.41249513626098633\n",
      "Epoch 150; loss: 0.1188405230641365\n",
      "Epoch 200; loss: 0.03466189280152321\n",
      "Epoch 250; loss: 0.014321047812700272\n",
      "Epoch 300; loss: 0.007504131644964218\n",
      "Epoch 350; loss: 0.004504414740949869\n",
      "Epoch 400; loss: 0.002940024249255657\n",
      "Epoch 450; loss: 0.002028790069743991\n",
      "Epoch 500; loss: 0.001456510741263628\n",
      "Epoch 550; loss: 0.0010763572063297033\n",
      "Epoch 600; loss: 0.0008132726070471108\n",
      "Epoch 650; loss: 0.0006254147156141698\n",
      "Epoch 700; loss: 0.0004876854654867202\n",
      "Epoch 750; loss: 0.0003847335756290704\n",
      "Epoch 800; loss: 0.00030620177858509123\n",
      "Epoch 850; loss: 0.0002456601650919765\n",
      "Epoch 900; loss: 0.0001984637783607468\n",
      "Epoch 950; loss: 0.00016115797916427255\n"
     ]
    }
   ],
   "source": [
    "from train import TrainWrapper\n",
    "\n",
    "trainer = TrainWrapper()\n",
    "model = trainer.train()"
   ]
  },
  {
   "cell_type": "code",
   "execution_count": 2,
   "metadata": {},
   "outputs": [
    {
     "name": "stdout",
     "output_type": "stream",
     "text": [
      "[tensor([0]), tensor([1]), tensor([2]), tensor([3]), tensor([4]), tensor([5])]\n"
     ]
    }
   ],
   "source": [
    "vals = [str(i) for i in range(6)] # train set\n",
    "preds = trainer.predict(model, vals)\n",
    "print(preds)"
   ]
  },
  {
   "cell_type": "code",
   "execution_count": 3,
   "metadata": {},
   "outputs": [
    {
     "name": "stdout",
     "output_type": "stream",
     "text": [
      "[tensor([0]), tensor([4]), tensor([3]), tensor([1])]\n"
     ]
    }
   ],
   "source": [
    "vals = ['6', '7', '8', '9'] # test set\n",
    "preds = trainer.predict(model, vals)\n",
    "print(preds)"
   ]
  },
  {
   "attachments": {},
   "cell_type": "markdown",
   "metadata": {},
   "source": [
    "* the model has memorized the train set, but performs poorly on new data\n",
    "* a different approach to training rnn to count should be tried (e.g., not treating problem as multiclassification problem)"
   ]
  }
 ],
 "metadata": {
  "kernelspec": {
   "display_name": "Python 3",
   "language": "python",
   "name": "python3"
  },
  "language_info": {
   "codemirror_mode": {
    "name": "ipython",
    "version": 3
   },
   "file_extension": ".py",
   "mimetype": "text/x-python",
   "name": "python",
   "nbconvert_exporter": "python",
   "pygments_lexer": "ipython3",
   "version": "3.10.8"
  },
  "orig_nbformat": 4,
  "vscode": {
   "interpreter": {
    "hash": "b44bb4727ebb14ca7ed5ca7e4777ddffcb6a59419da300b376f4a60fa3c6fc77"
   }
  }
 },
 "nbformat": 4,
 "nbformat_minor": 2
}
