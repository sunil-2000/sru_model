{
 "cells": [
  {
   "cell_type": "code",
   "execution_count": 1,
   "metadata": {},
   "outputs": [
    {
     "name": "stderr",
     "output_type": "stream",
     "text": [
      "/Users/sunil/Desktop/cleanMail/nlp/lib/python3.10/site-packages/sru/cuda_functional.py:23: UserWarning: Just-in-time loading and compiling the CUDA kernels of SRU was unsuccessful. Got the following error:\n",
      "CUDA_HOME environment variable is not set. Please set it to your CUDA install root.\n",
      "  warnings.warn(\"Just-in-time loading and compiling the CUDA kernels of SRU was unsuccessful. \"\n",
      "/Users/sunil/Desktop/cleanMail/nlp/lib/python3.10/site-packages/sru/ops.py:162: UserWarning: Running SRU on CPU with grad_enabled=True. Are you sure?\n",
      "  warnings.warn(\"Running SRU on CPU with grad_enabled=True. Are you sure?\")\n"
     ]
    },
    {
     "name": "stdout",
     "output_type": "stream",
     "text": [
      "Epoch 0; loss: 2.2063217163085938\n",
      "Epoch 50; loss: 1.7934752702713013\n",
      "Epoch 100; loss: 0.3414791524410248\n",
      "Epoch 150; loss: 0.030350450426340103\n",
      "Epoch 200; loss: 0.009880327619612217\n",
      "Epoch 250; loss: 0.005014462396502495\n",
      "Epoch 300; loss: 0.0030043248552829027\n",
      "Epoch 350; loss: 0.001969780307263136\n",
      "Epoch 400; loss: 0.0013681822456419468\n",
      "Epoch 450; loss: 0.0009891861118376255\n",
      "Epoch 500; loss: 0.0007363230688497424\n",
      "Epoch 550; loss: 0.0005603650351986289\n",
      "Epoch 600; loss: 0.0004338276921771467\n",
      "Epoch 650; loss: 0.0003404037852305919\n",
      "Epoch 700; loss: 0.000270091783022508\n",
      "Epoch 750; loss: 0.0002162222663173452\n",
      "Epoch 800; loss: 0.00017426878912374377\n",
      "Epoch 850; loss: 0.00014149141497910023\n",
      "Epoch 900; loss: 0.00011526874004630372\n",
      "Epoch 950; loss: 9.440929716220126e-05\n"
     ]
    }
   ],
   "source": [
    "from train import TrainWrapper\n",
    "\n",
    "trainer = TrainWrapper()\n",
    "model = trainer.train()"
   ]
  },
  {
   "cell_type": "code",
   "execution_count": 2,
   "metadata": {},
   "outputs": [
    {
     "name": "stdout",
     "output_type": "stream",
     "text": [
      "[tensor([0]), tensor([1]), tensor([2]), tensor([3]), tensor([4]), tensor([5])]\n"
     ]
    }
   ],
   "source": [
    "vals = [str(i) for i in range(6)] # train set\n",
    "preds = trainer.predict(model, vals)\n",
    "print(preds)"
   ]
  },
  {
   "cell_type": "code",
   "execution_count": 3,
   "metadata": {},
   "outputs": [
    {
     "name": "stdout",
     "output_type": "stream",
     "text": [
      "[tensor([5]), tensor([2]), tensor([5]), tensor([2])]\n"
     ]
    }
   ],
   "source": [
    "vals = ['6', '7', '8', '9'] # test set\n",
    "preds = trainer.predict(model, vals)\n",
    "print(preds)"
   ]
  },
  {
   "attachments": {},
   "cell_type": "markdown",
   "metadata": {},
   "source": [
    "* the model has memorized the train set, but performs poorly on new data\n",
    "* a different approach to training rnn to count should be tried (e.g., not treating problem as multiclassification problem)"
   ]
  }
 ],
 "metadata": {
  "kernelspec": {
   "display_name": "Python 3",
   "language": "python",
   "name": "python3"
  },
  "language_info": {
   "codemirror_mode": {
    "name": "ipython",
    "version": 3
   },
   "file_extension": ".py",
   "mimetype": "text/x-python",
   "name": "python",
   "nbconvert_exporter": "python",
   "pygments_lexer": "ipython3",
   "version": "3.10.8"
  },
  "orig_nbformat": 4,
  "vscode": {
   "interpreter": {
    "hash": "b44bb4727ebb14ca7ed5ca7e4777ddffcb6a59419da300b376f4a60fa3c6fc77"
   }
  }
 },
 "nbformat": 4,
 "nbformat_minor": 2
}
